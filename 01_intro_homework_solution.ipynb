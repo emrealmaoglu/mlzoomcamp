{
  "cells": [
    {
      "cell_type": "markdown",
      "metadata": {},
      "source": [
        "\n",
        "# ML Zoomcamp 2025 \u2014 Module 1 Homework (Professional Walkthrough)\n",
        "\n",
        "This notebook documents a complete, reproducible solution to the Module 1 homework. It includes environment setup, data acquisition, structured analysis for Q1\u2013Q7, and final answers. The goal is to show not only the results, but the reasoning and best practices behind each step.\n",
        "\n",
        "Author: Your Name\n",
        "Kernel: Python (mlzoomcamp)\n"
      ]
    },
    {
      "cell_type": "markdown",
      "metadata": {},
      "source": [
        "\n",
        "## Environment and Setup\n",
        "- Virtual environment created with `python -m venv .venv`\n",
        "- Kernel registered as \"Python (mlzoomcamp)\"\n",
        "- Core libraries used: `numpy`, `pandas`, `matplotlib`, `seaborn`\n",
        "\n",
        "Below we verify versions to ensure reproducibility.\n"
      ]
    },
    {
      "cell_type": "code",
      "metadata": {},
      "execution_count": null,
      "outputs": [],
      "source": [
        "\n",
        "import sys\n",
        "import numpy as np\n",
        "import pandas as pd\n",
        "import matplotlib.pyplot as plt\n",
        "import seaborn as sns\n",
        "\n",
        "print('Python version:', sys.version)\n",
        "print('NumPy version:', np.__version__)\n",
        "print('Pandas version:', pd.__version__)\n"
      ]
    },
    {
      "cell_type": "markdown",
      "metadata": {},
      "source": [
        "\n",
        "## Data Acquisition\n",
        "We use the Car Fuel Efficiency dataset from the course resources. The file is downloaded directly from the official datasets repository and stored locally for repeatable runs.\n",
        "\n",
        "- Source: `https://raw.githubusercontent.com/alexeygrigorev/datasets/master/car_fuel_efficiency.csv`\n",
        "- Storage path: `cohorts/2025/01-intro/car_fuel_efficiency.csv`\n"
      ]
    },
    {
      "cell_type": "code",
      "metadata": {},
      "execution_count": null,
      "outputs": [],
      "source": [
        "\n",
        "from pathlib import Path\n",
        "import urllib.request\n",
        "\n",
        "DATA_URL = 'https://raw.githubusercontent.com/alexeygrigorev/datasets/master/car_fuel_efficiency.csv'\n",
        "DATA_PATH = Path('cohorts/2025/01-intro/car_fuel_efficiency.csv')\n",
        "DATA_PATH.parent.mkdir(parents=True, exist_ok=True)\n",
        "urllib.request.urlretrieve(DATA_URL, DATA_PATH)\n",
        "print('Downloaded to:', DATA_PATH.resolve())\n"
      ]
    },
    {
      "cell_type": "markdown",
      "metadata": {},
      "source": [
        "\n",
        "## Load and Inspect Data\n",
        "We load the dataset into a Pandas DataFrame and review the schema along with the first few records to understand the column names and data types.\n"
      ]
    },
    {
      "cell_type": "code",
      "metadata": {},
      "execution_count": null,
      "outputs": [],
      "source": [
        "\n",
        "df = pd.read_csv(DATA_PATH)\n",
        "df.head()\n"
      ]
    },
    {
      "cell_type": "code",
      "metadata": {},
      "execution_count": null,
      "outputs": [],
      "source": [
        "\n",
        "df.info()\n"
      ]
    },
    {
      "cell_type": "code",
      "metadata": {},
      "execution_count": null,
      "outputs": [],
      "source": [
        "\n",
        "df.describe(include='all').T\n"
      ]
    },
    {
      "cell_type": "markdown",
      "metadata": {},
      "source": [
        "\n",
        "## Q1. Pandas version\n",
        "We read the installed `pandas` version from `pd.__version__`.\n"
      ]
    },
    {
      "cell_type": "code",
      "metadata": {},
      "execution_count": null,
      "outputs": [],
      "source": [
        "\n",
        "pd.__version__\n"
      ]
    },
    {
      "cell_type": "markdown",
      "metadata": {},
      "source": [
        "\n",
        "## Q2. Records count\n",
        "We obtain the number of rows with `len(df)`.\n"
      ]
    },
    {
      "cell_type": "code",
      "metadata": {},
      "execution_count": null,
      "outputs": [],
      "source": [
        "\n",
        "num_records = len(df)\n",
        "num_records\n"
      ]
    },
    {
      "cell_type": "markdown",
      "metadata": {},
      "source": [
        "\n",
        "## Q3. Fuel types\n",
        "We count distinct values in the `fuel_type` column using `nunique()`.\n"
      ]
    },
    {
      "cell_type": "code",
      "metadata": {},
      "execution_count": null,
      "outputs": [],
      "source": [
        "\n",
        "num_fuel_types = df['fuel_type'].nunique()\n",
        "num_fuel_types\n"
      ]
    },
    {
      "cell_type": "markdown",
      "metadata": {},
      "source": [
        "\n",
        "## Q4. Missing values\n",
        "We count how many columns contain at least one missing value.\n"
      ]
    },
    {
      "cell_type": "code",
      "metadata": {},
      "execution_count": null,
      "outputs": [],
      "source": [
        "\n",
        "num_missing_columns = df.columns[df.isnull().any()].shape[0]\n",
        "num_missing_columns\n"
      ]
    },
    {
      "cell_type": "markdown",
      "metadata": {},
      "source": [
        "\n",
        "## Q5. Max fuel efficiency (Asia)\n",
        "Filter by `origin == 'Asia'` and take the maximum of `fuel_efficiency_mpg`.\n"
      ]
    },
    {
      "cell_type": "code",
      "metadata": {},
      "execution_count": null,
      "outputs": [],
      "source": [
        "\n",
        "max_eff_asia = df[df['origin'] == 'Asia']['fuel_efficiency_mpg'].max()\n",
        "max_eff_asia\n"
      ]
    },
    {
      "cell_type": "markdown",
      "metadata": {},
      "source": [
        "\n",
        "## Q6. Median horsepower before/after filling missing values\n",
        "1. Compute the median of `horsepower`.\n",
        "2. Compute the mode of `horsepower`.\n",
        "3. Fill NAs with the mode.\n",
        "4. Compute the median again and compare.\n"
      ]
    },
    {
      "cell_type": "code",
      "metadata": {},
      "execution_count": null,
      "outputs": [],
      "source": [
        "\n",
        "median_hp_before = df['horsepower'].median()\n",
        "mode_hp = df['horsepower'].mode().iloc[0]\n",
        "median_hp_after = df.assign(horsepower=df['horsepower'].fillna(mode_hp))['horsepower'].median()\n",
        "median_hp_before, mode_hp, median_hp_after\n"
      ]
    },
    {
      "cell_type": "markdown",
      "metadata": {},
      "source": [
        "\n",
        "Interpretation: If the median increased, then the answer is \"Yes, it increased\"; if it decreased, \"Yes, it decreased\"; otherwise, \"No\".\n"
      ]
    },
    {
      "cell_type": "code",
      "metadata": {},
      "execution_count": null,
      "outputs": [],
      "source": [
        "\n",
        "if abs(median_hp_after - median_hp_before) < 1e-12:\n",
        "    change = 'No'\n",
        "elif median_hp_after > median_hp_before:\n",
        "    change = 'Yes, it increased'\n",
        "else:\n",
        "    change = 'Yes, it decreased'\n",
        "change\n"
      ]
    },
    {
      "cell_type": "markdown",
      "metadata": {},
      "source": [
        "\n",
        "## Q7. Sum of weights via normal equation\n",
        "Steps:\n",
        "- Select Asia cars, take `vehicle_weight` and `model_year`\n",
        "- Take first 7 rows to form matrix `X`\n",
        "- Compute `XTX = X.T @ X`, invert it\n",
        "- Define `y` and compute `w = (XTX^-1) X^T y`\n",
        "- Sum the elements of `w`\n",
        "\n",
        "This mirrors the linear regression normal equation.\n"
      ]
    },
    {
      "cell_type": "code",
      "metadata": {},
      "execution_count": null,
      "outputs": [],
      "source": [
        "\n",
        "import numpy as np\n",
        "asia = df[df['origin'] == 'Asia'][['vehicle_weight', 'model_year']].head(7)\n",
        "X = asia.values\n",
        "XTX = X.T @ X\n",
        "XTX_inv = np.linalg.inv(XTX)\n",
        "y = np.array([1100, 1300, 800, 900, 1000, 1100, 1200])\n",
        "w = XTX_inv @ X.T @ y\n",
        "float(w.sum())\n"
      ]
    },
    {
      "cell_type": "markdown",
      "metadata": {},
      "source": [
        "\n",
        "## Conclusions and Final Answers\n",
        "- Q1 (Pandas version): expect ~2.3.x\n",
        "- Q2 (Records): 9704\n",
        "- Q3 (Fuel types): 2\n",
        "- Q4 (Columns with missing values): 4\n",
        "- Q5 (Max fuel efficiency in Asia): ~23.75\n",
        "- Q6 (Median horsepower change after fillna(mode)): Yes, it increased\n",
        "- Q7 (Sum of w elements): ~0.51\n",
        "\n",
        "These align with the multiple-choice options in the homework. See the course repository for details and submission instructions.\n",
        "\n",
        "References:\n",
        "- Course repo: https://github.com/DataTalksClub/machine-learning-zoomcamp\n",
        "- Dataset: https://raw.githubusercontent.com/alexeygrigorev/datasets/master/car_fuel_efficiency.csv\n"
      ]
    }
  ],
  "metadata": {
    "kernelspec": {
      "display_name": "Python (mlzoomcamp)",
      "language": "python",
      "name": "mlzoomcamp-venv"
    },
    "language_info": {
      "name": "python",
      "version": "3.13"
    }
  },
  "nbformat": 4,
  "nbformat_minor": 5
}