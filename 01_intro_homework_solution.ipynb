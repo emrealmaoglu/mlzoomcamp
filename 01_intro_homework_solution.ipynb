{
  "cells": [
    {
      "cell_type": "markdown",
      "metadata": {},
      "source": [
        "\n",
        "# ML Zoomcamp 2025 — Module 1 Homework (Professional Walkthrough)\n",
        "\n",
        "This notebook documents a complete, reproducible solution to the Module 1 homework. It includes environment setup, data acquisition, structured analysis for Q1–Q7, and final answers. The goal is to show not only the results, but the reasoning and best practices behind each step.\n",
        "\n",
        "Author: Yunus Emre Almaoğlu\n",
        "Mail Adress : emrealmaogluu@gmail.com\n",
        "Kernel: Python (mlzoomcamp)\n"
      ]
    },
    {
      "cell_type": "markdown",
      "metadata": {},
      "source": [
        "\n",
        "## Environment and Setup\n",
        "- Virtual environment created with `python -m venv .venv`\n",
        "- Kernel registered as \"Python (mlzoomcamp)\"\n",
        "- Core libraries used: `numpy`, `pandas`, `matplotlib`, `seaborn`\n",
        "\n",
        "Below we verify versions to ensure reproducibility.\n"
      ]
    },
    {
      "cell_type": "code",
      "execution_count": 14,
      "metadata": {},
      "outputs": [
        {
          "name": "stdout",
          "output_type": "stream",
          "text": [
            "Python version: 3.13.7 (main, Aug 14 2025, 11:12:11) [Clang 17.0.0 (clang-1700.0.13.3)]\n",
            "NumPy version: 2.3.3\n",
            "Pandas version: 2.3.3\n"
          ]
        }
      ],
      "source": [
        "\n",
        "import sys\n",
        "import numpy as np\n",
        "import pandas as pd\n",
        "import matplotlib.pyplot as plt\n",
        "import seaborn as sns\n",
        "\n",
        "print('Python version:', sys.version)\n",
        "print('NumPy version:', np.__version__)\n",
        "print('Pandas version:', pd.__version__)\n"
      ]
    },
    {
      "cell_type": "markdown",
      "metadata": {},
      "source": [
        "\n",
        "## Data Acquisition\n",
        "We use the Car Fuel Efficiency dataset from the course resources. The file is downloaded directly from the official datasets repository and stored locally for repeatable runs.\n",
        "\n",
        "- Source: `https://raw.githubusercontent.com/alexeygrigorev/datasets/master/car_fuel_efficiency.csv`\n",
        "- Storage path: `cohorts/2025/01-intro/car_fuel_efficiency.csv`\n"
      ]
    },
    {
      "cell_type": "code",
      "execution_count": 15,
      "metadata": {},
      "outputs": [
        {
          "name": "stdout",
          "output_type": "stream",
          "text": [
            "Downloaded to: /Users/emrealmaoglu/Desktop/MLZoomCamp/machine-learning-zoomcamp/cohorts/2025/01-intro/cohorts/2025/01-intro/car_fuel_efficiency.csv\n"
          ]
        }
      ],
      "source": [
        "\n",
        "from pathlib import Path\n",
        "import urllib.request\n",
        "\n",
        "DATA_URL = 'https://raw.githubusercontent.com/alexeygrigorev/datasets/master/car_fuel_efficiency.csv'\n",
        "DATA_PATH = Path('cohorts/2025/01-intro/car_fuel_efficiency.csv')\n",
        "DATA_PATH.parent.mkdir(parents=True, exist_ok=True)\n",
        "urllib.request.urlretrieve(DATA_URL, DATA_PATH)\n",
        "print('Downloaded to:', DATA_PATH.resolve())\n"
      ]
    },
    {
      "cell_type": "markdown",
      "metadata": {},
      "source": [
        "\n",
        "## Load and Inspect Data\n",
        "We load the dataset into a Pandas DataFrame and review the schema along with the first few records to understand the column names and data types.\n"
      ]
    },
    {
      "cell_type": "code",
      "execution_count": 16,
      "metadata": {},
      "outputs": [
        {
          "data": {
            "text/html": [
              "<div>\n",
              "<style scoped>\n",
              "    .dataframe tbody tr th:only-of-type {\n",
              "        vertical-align: middle;\n",
              "    }\n",
              "\n",
              "    .dataframe tbody tr th {\n",
              "        vertical-align: top;\n",
              "    }\n",
              "\n",
              "    .dataframe thead th {\n",
              "        text-align: right;\n",
              "    }\n",
              "</style>\n",
              "<table border=\"1\" class=\"dataframe\">\n",
              "  <thead>\n",
              "    <tr style=\"text-align: right;\">\n",
              "      <th></th>\n",
              "      <th>engine_displacement</th>\n",
              "      <th>num_cylinders</th>\n",
              "      <th>horsepower</th>\n",
              "      <th>vehicle_weight</th>\n",
              "      <th>acceleration</th>\n",
              "      <th>model_year</th>\n",
              "      <th>origin</th>\n",
              "      <th>fuel_type</th>\n",
              "      <th>drivetrain</th>\n",
              "      <th>num_doors</th>\n",
              "      <th>fuel_efficiency_mpg</th>\n",
              "    </tr>\n",
              "  </thead>\n",
              "  <tbody>\n",
              "    <tr>\n",
              "      <th>0</th>\n",
              "      <td>170</td>\n",
              "      <td>3.0</td>\n",
              "      <td>159.0</td>\n",
              "      <td>3413.433759</td>\n",
              "      <td>17.7</td>\n",
              "      <td>2003</td>\n",
              "      <td>Europe</td>\n",
              "      <td>Gasoline</td>\n",
              "      <td>All-wheel drive</td>\n",
              "      <td>0.0</td>\n",
              "      <td>13.231729</td>\n",
              "    </tr>\n",
              "    <tr>\n",
              "      <th>1</th>\n",
              "      <td>130</td>\n",
              "      <td>5.0</td>\n",
              "      <td>97.0</td>\n",
              "      <td>3149.664934</td>\n",
              "      <td>17.8</td>\n",
              "      <td>2007</td>\n",
              "      <td>USA</td>\n",
              "      <td>Gasoline</td>\n",
              "      <td>Front-wheel drive</td>\n",
              "      <td>0.0</td>\n",
              "      <td>13.688217</td>\n",
              "    </tr>\n",
              "    <tr>\n",
              "      <th>2</th>\n",
              "      <td>170</td>\n",
              "      <td>NaN</td>\n",
              "      <td>78.0</td>\n",
              "      <td>3079.038997</td>\n",
              "      <td>15.1</td>\n",
              "      <td>2018</td>\n",
              "      <td>Europe</td>\n",
              "      <td>Gasoline</td>\n",
              "      <td>Front-wheel drive</td>\n",
              "      <td>0.0</td>\n",
              "      <td>14.246341</td>\n",
              "    </tr>\n",
              "    <tr>\n",
              "      <th>3</th>\n",
              "      <td>220</td>\n",
              "      <td>4.0</td>\n",
              "      <td>NaN</td>\n",
              "      <td>2542.392402</td>\n",
              "      <td>20.2</td>\n",
              "      <td>2009</td>\n",
              "      <td>USA</td>\n",
              "      <td>Diesel</td>\n",
              "      <td>All-wheel drive</td>\n",
              "      <td>2.0</td>\n",
              "      <td>16.912736</td>\n",
              "    </tr>\n",
              "    <tr>\n",
              "      <th>4</th>\n",
              "      <td>210</td>\n",
              "      <td>1.0</td>\n",
              "      <td>140.0</td>\n",
              "      <td>3460.870990</td>\n",
              "      <td>14.4</td>\n",
              "      <td>2009</td>\n",
              "      <td>Europe</td>\n",
              "      <td>Gasoline</td>\n",
              "      <td>All-wheel drive</td>\n",
              "      <td>2.0</td>\n",
              "      <td>12.488369</td>\n",
              "    </tr>\n",
              "  </tbody>\n",
              "</table>\n",
              "</div>"
            ],
            "text/plain": [
              "   engine_displacement  num_cylinders  horsepower  vehicle_weight  \\\n",
              "0                  170            3.0       159.0     3413.433759   \n",
              "1                  130            5.0        97.0     3149.664934   \n",
              "2                  170            NaN        78.0     3079.038997   \n",
              "3                  220            4.0         NaN     2542.392402   \n",
              "4                  210            1.0       140.0     3460.870990   \n",
              "\n",
              "   acceleration  model_year  origin fuel_type         drivetrain  num_doors  \\\n",
              "0          17.7        2003  Europe  Gasoline    All-wheel drive        0.0   \n",
              "1          17.8        2007     USA  Gasoline  Front-wheel drive        0.0   \n",
              "2          15.1        2018  Europe  Gasoline  Front-wheel drive        0.0   \n",
              "3          20.2        2009     USA    Diesel    All-wheel drive        2.0   \n",
              "4          14.4        2009  Europe  Gasoline    All-wheel drive        2.0   \n",
              "\n",
              "   fuel_efficiency_mpg  \n",
              "0            13.231729  \n",
              "1            13.688217  \n",
              "2            14.246341  \n",
              "3            16.912736  \n",
              "4            12.488369  "
            ]
          },
          "execution_count": 16,
          "metadata": {},
          "output_type": "execute_result"
        }
      ],
      "source": [
        "\n",
        "df = pd.read_csv(DATA_PATH)\n",
        "df.head()\n"
      ]
    },
    {
      "cell_type": "code",
      "execution_count": 17,
      "metadata": {},
      "outputs": [
        {
          "name": "stdout",
          "output_type": "stream",
          "text": [
            "<class 'pandas.core.frame.DataFrame'>\n",
            "RangeIndex: 9704 entries, 0 to 9703\n",
            "Data columns (total 11 columns):\n",
            " #   Column               Non-Null Count  Dtype  \n",
            "---  ------               --------------  -----  \n",
            " 0   engine_displacement  9704 non-null   int64  \n",
            " 1   num_cylinders        9222 non-null   float64\n",
            " 2   horsepower           8996 non-null   float64\n",
            " 3   vehicle_weight       9704 non-null   float64\n",
            " 4   acceleration         8774 non-null   float64\n",
            " 5   model_year           9704 non-null   int64  \n",
            " 6   origin               9704 non-null   object \n",
            " 7   fuel_type            9704 non-null   object \n",
            " 8   drivetrain           9704 non-null   object \n",
            " 9   num_doors            9202 non-null   float64\n",
            " 10  fuel_efficiency_mpg  9704 non-null   float64\n",
            "dtypes: float64(6), int64(2), object(3)\n",
            "memory usage: 834.1+ KB\n"
          ]
        }
      ],
      "source": [
        "\n",
        "df.info()\n"
      ]
    },
    {
      "cell_type": "code",
      "execution_count": 18,
      "metadata": {},
      "outputs": [
        {
          "data": {
            "text/html": [
              "<div>\n",
              "<style scoped>\n",
              "    .dataframe tbody tr th:only-of-type {\n",
              "        vertical-align: middle;\n",
              "    }\n",
              "\n",
              "    .dataframe tbody tr th {\n",
              "        vertical-align: top;\n",
              "    }\n",
              "\n",
              "    .dataframe thead th {\n",
              "        text-align: right;\n",
              "    }\n",
              "</style>\n",
              "<table border=\"1\" class=\"dataframe\">\n",
              "  <thead>\n",
              "    <tr style=\"text-align: right;\">\n",
              "      <th></th>\n",
              "      <th>count</th>\n",
              "      <th>unique</th>\n",
              "      <th>top</th>\n",
              "      <th>freq</th>\n",
              "      <th>mean</th>\n",
              "      <th>std</th>\n",
              "      <th>min</th>\n",
              "      <th>25%</th>\n",
              "      <th>50%</th>\n",
              "      <th>75%</th>\n",
              "      <th>max</th>\n",
              "    </tr>\n",
              "  </thead>\n",
              "  <tbody>\n",
              "    <tr>\n",
              "      <th>engine_displacement</th>\n",
              "      <td>9704.0</td>\n",
              "      <td>NaN</td>\n",
              "      <td>NaN</td>\n",
              "      <td>NaN</td>\n",
              "      <td>199.708368</td>\n",
              "      <td>49.455319</td>\n",
              "      <td>10.0</td>\n",
              "      <td>170.0</td>\n",
              "      <td>200.0</td>\n",
              "      <td>230.0</td>\n",
              "      <td>380.0</td>\n",
              "    </tr>\n",
              "    <tr>\n",
              "      <th>num_cylinders</th>\n",
              "      <td>9222.0</td>\n",
              "      <td>NaN</td>\n",
              "      <td>NaN</td>\n",
              "      <td>NaN</td>\n",
              "      <td>3.962481</td>\n",
              "      <td>1.999323</td>\n",
              "      <td>0.0</td>\n",
              "      <td>3.0</td>\n",
              "      <td>4.0</td>\n",
              "      <td>5.0</td>\n",
              "      <td>13.0</td>\n",
              "    </tr>\n",
              "    <tr>\n",
              "      <th>horsepower</th>\n",
              "      <td>8996.0</td>\n",
              "      <td>NaN</td>\n",
              "      <td>NaN</td>\n",
              "      <td>NaN</td>\n",
              "      <td>149.657292</td>\n",
              "      <td>29.879555</td>\n",
              "      <td>37.0</td>\n",
              "      <td>130.0</td>\n",
              "      <td>149.0</td>\n",
              "      <td>170.0</td>\n",
              "      <td>271.0</td>\n",
              "    </tr>\n",
              "    <tr>\n",
              "      <th>vehicle_weight</th>\n",
              "      <td>9704.0</td>\n",
              "      <td>NaN</td>\n",
              "      <td>NaN</td>\n",
              "      <td>NaN</td>\n",
              "      <td>3001.280993</td>\n",
              "      <td>497.89486</td>\n",
              "      <td>952.681761</td>\n",
              "      <td>2666.248985</td>\n",
              "      <td>2993.226296</td>\n",
              "      <td>3334.957039</td>\n",
              "      <td>4739.077089</td>\n",
              "    </tr>\n",
              "    <tr>\n",
              "      <th>acceleration</th>\n",
              "      <td>8774.0</td>\n",
              "      <td>NaN</td>\n",
              "      <td>NaN</td>\n",
              "      <td>NaN</td>\n",
              "      <td>15.021928</td>\n",
              "      <td>2.510339</td>\n",
              "      <td>6.0</td>\n",
              "      <td>13.3</td>\n",
              "      <td>15.0</td>\n",
              "      <td>16.7</td>\n",
              "      <td>24.3</td>\n",
              "    </tr>\n",
              "    <tr>\n",
              "      <th>model_year</th>\n",
              "      <td>9704.0</td>\n",
              "      <td>NaN</td>\n",
              "      <td>NaN</td>\n",
              "      <td>NaN</td>\n",
              "      <td>2011.484027</td>\n",
              "      <td>6.659808</td>\n",
              "      <td>2000.0</td>\n",
              "      <td>2006.0</td>\n",
              "      <td>2012.0</td>\n",
              "      <td>2017.0</td>\n",
              "      <td>2023.0</td>\n",
              "    </tr>\n",
              "    <tr>\n",
              "      <th>origin</th>\n",
              "      <td>9704</td>\n",
              "      <td>3</td>\n",
              "      <td>Europe</td>\n",
              "      <td>3254</td>\n",
              "      <td>NaN</td>\n",
              "      <td>NaN</td>\n",
              "      <td>NaN</td>\n",
              "      <td>NaN</td>\n",
              "      <td>NaN</td>\n",
              "      <td>NaN</td>\n",
              "      <td>NaN</td>\n",
              "    </tr>\n",
              "    <tr>\n",
              "      <th>fuel_type</th>\n",
              "      <td>9704</td>\n",
              "      <td>2</td>\n",
              "      <td>Gasoline</td>\n",
              "      <td>4898</td>\n",
              "      <td>NaN</td>\n",
              "      <td>NaN</td>\n",
              "      <td>NaN</td>\n",
              "      <td>NaN</td>\n",
              "      <td>NaN</td>\n",
              "      <td>NaN</td>\n",
              "      <td>NaN</td>\n",
              "    </tr>\n",
              "    <tr>\n",
              "      <th>drivetrain</th>\n",
              "      <td>9704</td>\n",
              "      <td>2</td>\n",
              "      <td>All-wheel drive</td>\n",
              "      <td>4876</td>\n",
              "      <td>NaN</td>\n",
              "      <td>NaN</td>\n",
              "      <td>NaN</td>\n",
              "      <td>NaN</td>\n",
              "      <td>NaN</td>\n",
              "      <td>NaN</td>\n",
              "      <td>NaN</td>\n",
              "    </tr>\n",
              "    <tr>\n",
              "      <th>num_doors</th>\n",
              "      <td>9202.0</td>\n",
              "      <td>NaN</td>\n",
              "      <td>NaN</td>\n",
              "      <td>NaN</td>\n",
              "      <td>-0.006412</td>\n",
              "      <td>1.048162</td>\n",
              "      <td>-4.0</td>\n",
              "      <td>-1.0</td>\n",
              "      <td>0.0</td>\n",
              "      <td>1.0</td>\n",
              "      <td>4.0</td>\n",
              "    </tr>\n",
              "    <tr>\n",
              "      <th>fuel_efficiency_mpg</th>\n",
              "      <td>9704.0</td>\n",
              "      <td>NaN</td>\n",
              "      <td>NaN</td>\n",
              "      <td>NaN</td>\n",
              "      <td>14.985243</td>\n",
              "      <td>2.556468</td>\n",
              "      <td>6.200971</td>\n",
              "      <td>13.267459</td>\n",
              "      <td>15.006037</td>\n",
              "      <td>16.707965</td>\n",
              "      <td>25.967222</td>\n",
              "    </tr>\n",
              "  </tbody>\n",
              "</table>\n",
              "</div>"
            ],
            "text/plain": [
              "                      count unique              top  freq         mean  \\\n",
              "engine_displacement  9704.0    NaN              NaN   NaN   199.708368   \n",
              "num_cylinders        9222.0    NaN              NaN   NaN     3.962481   \n",
              "horsepower           8996.0    NaN              NaN   NaN   149.657292   \n",
              "vehicle_weight       9704.0    NaN              NaN   NaN  3001.280993   \n",
              "acceleration         8774.0    NaN              NaN   NaN    15.021928   \n",
              "model_year           9704.0    NaN              NaN   NaN  2011.484027   \n",
              "origin                 9704      3           Europe  3254          NaN   \n",
              "fuel_type              9704      2         Gasoline  4898          NaN   \n",
              "drivetrain             9704      2  All-wheel drive  4876          NaN   \n",
              "num_doors            9202.0    NaN              NaN   NaN    -0.006412   \n",
              "fuel_efficiency_mpg  9704.0    NaN              NaN   NaN    14.985243   \n",
              "\n",
              "                           std         min          25%          50%  \\\n",
              "engine_displacement  49.455319        10.0        170.0        200.0   \n",
              "num_cylinders         1.999323         0.0          3.0          4.0   \n",
              "horsepower           29.879555        37.0        130.0        149.0   \n",
              "vehicle_weight       497.89486  952.681761  2666.248985  2993.226296   \n",
              "acceleration          2.510339         6.0         13.3         15.0   \n",
              "model_year            6.659808      2000.0       2006.0       2012.0   \n",
              "origin                     NaN         NaN          NaN          NaN   \n",
              "fuel_type                  NaN         NaN          NaN          NaN   \n",
              "drivetrain                 NaN         NaN          NaN          NaN   \n",
              "num_doors             1.048162        -4.0         -1.0          0.0   \n",
              "fuel_efficiency_mpg   2.556468    6.200971    13.267459    15.006037   \n",
              "\n",
              "                             75%          max  \n",
              "engine_displacement        230.0        380.0  \n",
              "num_cylinders                5.0         13.0  \n",
              "horsepower                 170.0        271.0  \n",
              "vehicle_weight       3334.957039  4739.077089  \n",
              "acceleration                16.7         24.3  \n",
              "model_year                2017.0       2023.0  \n",
              "origin                       NaN          NaN  \n",
              "fuel_type                    NaN          NaN  \n",
              "drivetrain                   NaN          NaN  \n",
              "num_doors                    1.0          4.0  \n",
              "fuel_efficiency_mpg    16.707965    25.967222  "
            ]
          },
          "execution_count": 18,
          "metadata": {},
          "output_type": "execute_result"
        }
      ],
      "source": [
        "\n",
        "df.describe(include='all').T\n"
      ]
    },
    {
      "cell_type": "markdown",
      "metadata": {},
      "source": [
        "\n",
        "## Q1. Pandas version\n",
        "We read the installed `pandas` version from `pd.__version__`.\n"
      ]
    },
    {
      "cell_type": "code",
      "execution_count": 19,
      "metadata": {},
      "outputs": [
        {
          "data": {
            "text/plain": [
              "'2.3.3'"
            ]
          },
          "execution_count": 19,
          "metadata": {},
          "output_type": "execute_result"
        }
      ],
      "source": [
        "\n",
        "pd.__version__\n"
      ]
    },
    {
      "cell_type": "markdown",
      "metadata": {},
      "source": [
        "\n",
        "## Q2. Records count\n",
        "We obtain the number of rows with `len(df)`.\n"
      ]
    },
    {
      "cell_type": "code",
      "execution_count": 20,
      "metadata": {},
      "outputs": [
        {
          "data": {
            "text/plain": [
              "9704"
            ]
          },
          "execution_count": 20,
          "metadata": {},
          "output_type": "execute_result"
        }
      ],
      "source": [
        "\n",
        "num_records = len(df)\n",
        "num_records\n"
      ]
    },
    {
      "cell_type": "markdown",
      "metadata": {},
      "source": [
        "\n",
        "## Q3. Fuel types\n",
        "We count distinct values in the `fuel_type` column using `nunique()`.\n"
      ]
    },
    {
      "cell_type": "code",
      "execution_count": 21,
      "metadata": {},
      "outputs": [
        {
          "data": {
            "text/plain": [
              "2"
            ]
          },
          "execution_count": 21,
          "metadata": {},
          "output_type": "execute_result"
        }
      ],
      "source": [
        "\n",
        "num_fuel_types = df['fuel_type'].nunique()\n",
        "num_fuel_types\n"
      ]
    },
    {
      "cell_type": "markdown",
      "metadata": {},
      "source": [
        "\n",
        "## Q4. Missing values\n",
        "We count how many columns contain at least one missing value.\n"
      ]
    },
    {
      "cell_type": "code",
      "execution_count": 22,
      "metadata": {},
      "outputs": [
        {
          "data": {
            "text/plain": [
              "4"
            ]
          },
          "execution_count": 22,
          "metadata": {},
          "output_type": "execute_result"
        }
      ],
      "source": [
        "\n",
        "num_missing_columns = df.columns[df.isnull().any()].shape[0]\n",
        "num_missing_columns\n"
      ]
    },
    {
      "cell_type": "markdown",
      "metadata": {},
      "source": [
        "\n",
        "## Q5. Max fuel efficiency (Asia)\n",
        "Filter by `origin == 'Asia'` and take the maximum of `fuel_efficiency_mpg`.\n"
      ]
    },
    {
      "cell_type": "code",
      "execution_count": 23,
      "metadata": {},
      "outputs": [
        {
          "data": {
            "text/plain": [
              "np.float64(23.759122836520497)"
            ]
          },
          "execution_count": 23,
          "metadata": {},
          "output_type": "execute_result"
        }
      ],
      "source": [
        "\n",
        "max_eff_asia = df[df['origin'] == 'Asia']['fuel_efficiency_mpg'].max()\n",
        "max_eff_asia\n"
      ]
    },
    {
      "cell_type": "markdown",
      "metadata": {},
      "source": [
        "\n",
        "## Q6. Median horsepower before/after filling missing values\n",
        "1. Compute the median of `horsepower`.\n",
        "2. Compute the mode of `horsepower`.\n",
        "3. Fill NAs with the mode.\n",
        "4. Compute the median again and compare.\n"
      ]
    },
    {
      "cell_type": "code",
      "execution_count": 24,
      "metadata": {},
      "outputs": [
        {
          "data": {
            "text/plain": [
              "(np.float64(149.0), np.float64(152.0), np.float64(152.0))"
            ]
          },
          "execution_count": 24,
          "metadata": {},
          "output_type": "execute_result"
        }
      ],
      "source": [
        "\n",
        "median_hp_before = df['horsepower'].median()\n",
        "mode_hp = df['horsepower'].mode().iloc[0]\n",
        "median_hp_after = df.assign(horsepower=df['horsepower'].fillna(mode_hp))['horsepower'].median()\n",
        "median_hp_before, mode_hp, median_hp_after\n"
      ]
    },
    {
      "cell_type": "markdown",
      "metadata": {},
      "source": [
        "\n",
        "Interpretation: If the median increased, then the answer is \"Yes, it increased\"; if it decreased, \"Yes, it decreased\"; otherwise, \"No\".\n"
      ]
    },
    {
      "cell_type": "code",
      "execution_count": 25,
      "metadata": {},
      "outputs": [
        {
          "data": {
            "text/plain": [
              "'Yes, it increased'"
            ]
          },
          "execution_count": 25,
          "metadata": {},
          "output_type": "execute_result"
        }
      ],
      "source": [
        "\n",
        "if abs(median_hp_after - median_hp_before) < 1e-12:\n",
        "    change = 'No'\n",
        "elif median_hp_after > median_hp_before:\n",
        "    change = 'Yes, it increased'\n",
        "else:\n",
        "    change = 'Yes, it decreased'\n",
        "change\n"
      ]
    },
    {
      "cell_type": "markdown",
      "metadata": {},
      "source": [
        "\n",
        "## Q7. Sum of weights via normal equation\n",
        "Steps:\n",
        "- Select Asia cars, take `vehicle_weight` and `model_year`\n",
        "- Take first 7 rows to form matrix `X`\n",
        "- Compute `XTX = X.T @ X`, invert it\n",
        "- Define `y` and compute `w = (XTX^-1) X^T y`\n",
        "- Sum the elements of `w`\n",
        "\n",
        "This mirrors the linear regression normal equation.\n"
      ]
    },
    {
      "cell_type": "code",
      "execution_count": 26,
      "metadata": {},
      "outputs": [
        {
          "data": {
            "text/plain": [
              "0.5187709081074006"
            ]
          },
          "execution_count": 26,
          "metadata": {},
          "output_type": "execute_result"
        }
      ],
      "source": [
        "\n",
        "import numpy as np\n",
        "asia = df[df['origin'] == 'Asia'][['vehicle_weight', 'model_year']].head(7)\n",
        "X = asia.values\n",
        "XTX = X.T @ X\n",
        "XTX_inv = np.linalg.inv(XTX)\n",
        "y = np.array([1100, 1300, 800, 900, 1000, 1100, 1200])\n",
        "w = XTX_inv @ X.T @ y\n",
        "float(w.sum())\n"
      ]
    },
    {
      "cell_type": "markdown",
      "metadata": {},
      "source": [
        "\n",
        "## Conclusions and Final Answers\n",
        "- Q1 (Pandas version): expect ~2.3.x\n",
        "- Q2 (Records): 9704\n",
        "- Q3 (Fuel types): 2\n",
        "- Q4 (Columns with missing values): 4\n",
        "- Q5 (Max fuel efficiency in Asia): ~23.75\n",
        "- Q6 (Median horsepower change after fillna(mode)): Yes, it increased\n",
        "- Q7 (Sum of w elements): ~0.51\n",
        "\n",
        "These align with the multiple-choice options in the homework. See the course repository for details and submission instructions.\n",
        "\n",
        "References:\n",
        "- Course repo: https://github.com/DataTalksClub/machine-learning-zoomcamp\n",
        "- Dataset: https://raw.githubusercontent.com/alexeygrigorev/datasets/master/car_fuel_efficiency.csv\n"
      ]
    }
  ],
  "metadata": {
    "kernelspec": {
      "display_name": ".venv",
      "language": "python",
      "name": "python3"
    },
    "language_info": {
      "codemirror_mode": {
        "name": "ipython",
        "version": 3
      },
      "file_extension": ".py",
      "mimetype": "text/x-python",
      "name": "python",
      "nbconvert_exporter": "python",
      "pygments_lexer": "ipython3",
      "version": "3.13.7"
    }
  },
  "nbformat": 4,
  "nbformat_minor": 5
}
